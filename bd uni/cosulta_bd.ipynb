{
 "cells": [
  {
   "cell_type": "code",
   "execution_count": null,
   "id": "0876b2a8",
   "metadata": {
    "vscode": {
     "languageId": "sql"
    }
   },
   "outputs": [],
   "source": [
    "--crear base de datos\n",
    "\n",
    "CREATE DATABASE uni;\n"
   ]
  },
  {
   "cell_type": "code",
   "execution_count": null,
   "id": "84d9dea3",
   "metadata": {
    "vscode": {
     "languageId": "sql"
    }
   },
   "outputs": [],
   "source": [
    "--crear tabla Estudiante y insertar datos\n",
    "\n",
    "use uni;\n",
    "CREATE TABLE Estudiante (\n",
    "    ID_Std INT(11) NOT null AUTO_INCREMENT PRIMARY KEY,\n",
    "    Nombres VARCHAR(60),\n",
    "    Apellidos VARCHAR(60),\n",
    "    fecha_n DATE,\n",
    ");\n",
    "\n",
    "--insertar datos\n",
    "\n",
    "INSERT INTO Estudiante (Nombres, Apellidos, fecha_n)VALUES\n",
    "('Carlos', 'López', '1999-10-22'),\n",
    "('María', 'Rodríguez', '2001-03-08');\n"
   ]
  },
  {
   "cell_type": "code",
   "execution_count": null,
   "id": "e9882cbf",
   "metadata": {
    "vscode": {
     "languageId": "sql"
    }
   },
   "outputs": [],
   "source": [
    "--crear tabla Curso y insertar datos \n",
    "\n",
    "use uni;\n",
    "CREATE TABLE Curso (\n",
    "    ID_Curso INT(11) not null auto_increment PRIMARY KEY,\n",
    "    Nombre_curso VARCHAR(60)\n",
    "    creditos  VARCHAR(3)\n",
    "    descripcion  VARCHAR(300)\n",
    ");\n",
    "\n",
    "insertar valor \n",
    "\n",
    "INSERT INTO Curso (Nombre_curso, creditos, descripcion) VALUES\n",
    "('Programación', '3', 'Curso de programacion.'),\n",
    "('Matemáticas', '4', 'curso de matematicas.');"
   ]
  },
  {
   "cell_type": "code",
   "execution_count": null,
   "id": "88c777fe",
   "metadata": {
    "vscode": {
     "languageId": "sql"
    }
   },
   "outputs": [],
   "source": [
    "--crear tabla Inscripcion y relacionarla con la tabla Estudiante y Curso \n",
    "\n",
    "CREATE TABLE Inscripcion (\n",
    "    ID_Inscripcion INT PRIMARY KEY AUTO_INCREMENT,\n",
    "    ID_Std INT,\n",
    "    ID_Curso INT,\n",
    "    Fecha_Inscripcion DATE,\n",
    "    FOREIGN KEY (ID_Std) REFERENCES Estudiante(ID_Std),\n",
    "    FOREIGN KEY (ID_Curso) REFERENCES Curso(ID_Curso)\n",
    ");\n"
   ]
  }
 ],
 "metadata": {
  "language_info": {
   "name": "python"
  }
 },
 "nbformat": 4,
 "nbformat_minor": 5
}
